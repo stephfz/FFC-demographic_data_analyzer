{
  "nbformat": 4,
  "nbformat_minor": 0,
  "metadata": {
    "colab": {
      "provenance": [],
      "authorship_tag": "ABX9TyNpUeuggfo+n9ycJkzItJUT",
      "include_colab_link": true
    },
    "kernelspec": {
      "name": "python3",
      "display_name": "Python 3"
    },
    "language_info": {
      "name": "python"
    }
  },
  "cells": [
    {
      "cell_type": "markdown",
      "metadata": {
        "id": "view-in-github",
        "colab_type": "text"
      },
      "source": [
        "<a href=\"https://colab.research.google.com/github/stephfz/FFC-demographic_data_analyzer/blob/main/demographic_data_analyzer.ipynb\" target=\"_parent\"><img src=\"https://colab.research.google.com/assets/colab-badge.svg\" alt=\"Open In Colab\"/></a>"
      ]
    },
    {
      "cell_type": "code",
      "execution_count": 1,
      "metadata": {
        "id": "qqGkDIK_oGkg"
      },
      "outputs": [],
      "source": [
        "import pandas as pd\n",
        "\n",
        "\n",
        "\n",
        "def calculate_demographic_data(print_data=True):\n",
        "    # Read data from file\n",
        "    df = pd.read_csv('adult.data.csv')\n",
        "\n",
        "    # How many of each race are represented in this dataset? This should be a Pandas series with race names as the index labels.\n",
        "    race_count = df['race'].value_counts()\n",
        "\n",
        "    # What is the average age of men?\n",
        "    average_age_men = round(df.loc[df.sex == \"Male\"]['age'].mean(),1)\n",
        "\n",
        "    all_people = df.shape[0]\n",
        "    # What is the percentage of people who have a Bachelor's degree?\n",
        "    bachelors_count = df[df['education'] == 'Bachelors'].shape[0]\n",
        "    percentage_bachelors = round((bachelors_count / all_people) * 100,1)\n",
        "\n",
        "    # What percentage of people with advanced education (`Bachelors`, `Masters`, or `Doctorate`) make more than 50K?\n",
        "    # What percentage of people without advanced education make more than 50K?\n",
        "    people_advancedEd = df[df.education.isin([\"Bachelors\",\"Masters\",\"Doctorate\"])]\n",
        "    people_advancedEd_more50k = people_advancedEd[people_advancedEd.salary =='>50K']\n",
        "\n",
        "    # with and without `Bachelors`, `Masters`, or `Doctorate`\n",
        "    higher_education = df[(df.salary =='>50K') & (df.education.isin([\"Bachelors\",\"Masters\",\"Doctorate\"]))].shape[0]\n",
        "    lower_education = df[(df.salary =='>50K') & (~df.education.isin([\"Bachelors\",\"Masters\",\"Doctorate\"]))].shape[0]\n",
        "\n",
        "    people_woadvancedEd = df[~df.education.isin([\"Bachelors\",\"Masters\",\"Doctorate\"])]\n",
        "    people_woadvancedEd_more50k = people_woadvancedEd[people_woadvancedEd.salary =='>50K']\n",
        "\n",
        "    # percentage with salary >50K\n",
        "    higher_education_rich = round((people_advancedEd_more50k.shape[0] / people_advancedEd.shape[0])  * 100,1)\n",
        "    lower_education_rich = round(( people_woadvancedEd_more50k.shape[0] / people_woadvancedEd.shape[0]) * 100,1)\n",
        "\n",
        "    # What is the minimum number of hours a person works per week (hours-per-week feature)?\n",
        "    min_work_hours = df['hours-per-week'].min()\n",
        "\n",
        "    # What percentage of the people who work the minimum number of hours per week have a salary of >50K?\n",
        "    min_work_hours = df['hours-per-week'].min()\n",
        "    total_workers = df[df['hours-per-week'] ==min_work_hours]\n",
        "    total_num = total_workers.shape[0]\n",
        "\n",
        "    rich_percentage = (total_workers[total_workers.salary =='>50K'].shape[0]/ total_num) *100\n",
        "\n",
        "    # What country has the highest percentage of people that earn >50K?\n",
        "    total_by_country = df['native-country'].value_counts()\n",
        "    df_more50K = df[df.salary == '>50K']\n",
        "\n",
        "    more50K_by_country = df_more50K['native-country'].value_counts()\n",
        "\n",
        "    newdf = pd.DataFrame(more50K_by_country)\n",
        "    newdf.columns = ['count']\n",
        "    newdf['percentage'] = newdf['count'].div(total_by_country, fill_value=0) * 100\n",
        "\n",
        "    highest_earning_country = newdf['percentage'].idxmax()\n",
        "    highest_earning_country_percentage = round(newdf['percentage'].max(),1)\n",
        "\n",
        "    # Identify the most popular occupation for those who earn >50K in India.\n",
        "    df_india = df[(df.salary == '>50K') &(df['native-country'] == 'India') ]\n",
        "    top_IN_occupation = df_india.occupation.value_counts().idxmax()\n",
        "\n",
        "    # DO NOT MODIFY BELOW THIS LINE\n",
        "\n",
        "    if print_data:\n",
        "        print(\"Number of each race:\\n\", race_count)\n",
        "        print(\"Average age of men:\", average_age_men)\n",
        "        print(f\"Percentage with Bachelors degrees: {percentage_bachelors}%\")\n",
        "        print(f\"Percentage with higher education that earn >50K: {higher_education_rich}%\")\n",
        "        print(f\"Percentage without higher education that earn >50K: {lower_education_rich}%\")\n",
        "        print(f\"Min work time: {min_work_hours} hours/week\")\n",
        "        print(f\"Percentage of rich among those who work fewest hours: {rich_percentage}%\")\n",
        "        print(\"Country with highest percentage of rich:\", highest_earning_country)\n",
        "        print(f\"Highest percentage of rich people in country: {highest_earning_country_percentage}%\")\n",
        "        print(\"Top occupations in India:\", top_IN_occupation)\n",
        "\n",
        "    return {\n",
        "        'race_count': race_count,\n",
        "        'average_age_men': average_age_men,\n",
        "        'percentage_bachelors': percentage_bachelors,\n",
        "        'higher_education_rich': higher_education_rich,\n",
        "        'lower_education_rich': lower_education_rich,\n",
        "        'min_work_hours': min_work_hours,\n",
        "        'rich_percentage': rich_percentage,\n",
        "        'highest_earning_country': highest_earning_country,\n",
        "        'highest_earning_country_percentage':\n",
        "        highest_earning_country_percentage,\n",
        "        'top_IN_occupation': top_IN_occupation\n",
        "    }\n"
      ]
    },
    {
      "cell_type": "code",
      "source": [
        "calculate_demographic_data()"
      ],
      "metadata": {
        "colab": {
          "base_uri": "https://localhost:8080/"
        },
        "id": "b1ogqsSqoM92",
        "outputId": "f8ea875f-6398-4e8d-9b23-bd637bffee66"
      },
      "execution_count": 3,
      "outputs": [
        {
          "output_type": "stream",
          "name": "stdout",
          "text": [
            "Number of each race:\n",
            " race\n",
            "White                 27816\n",
            "Black                  3124\n",
            "Asian-Pac-Islander     1039\n",
            "Amer-Indian-Eskimo      311\n",
            "Other                   271\n",
            "Name: count, dtype: int64\n",
            "Average age of men: 39.43354749885268\n",
            "Percentage with Bachelors degrees: 16.44605509658794%\n",
            "Percentage with higher education that earn >50K: 10.706059396210192%\n",
            "Percentage without higher education that earn >50K: 13.374896348392248%\n",
            "Min work time: 1 hours/week\n",
            "Percentage of rich among those who work fewest hours: 0.006142317496391388%\n",
            "Country with highest percentage of rich: count    Iran\n",
            "dtype: object\n",
            "Highest percentage of rich people in country: count    0.418605\n",
            "dtype: float64%\n",
            "Top occupations in India: Prof-specialty\n"
          ]
        },
        {
          "output_type": "execute_result",
          "data": {
            "text/plain": [
              "{'race_count': race\n",
              " White                 27816\n",
              " Black                  3124\n",
              " Asian-Pac-Islander     1039\n",
              " Amer-Indian-Eskimo      311\n",
              " Other                   271\n",
              " Name: count, dtype: int64,\n",
              " 'average_age_men': 39.43354749885268,\n",
              " 'percentage_bachelors': 16.44605509658794,\n",
              " 'higher_education_rich': 10.706059396210192,\n",
              " 'lower_education_rich': 13.374896348392248,\n",
              " 'min_work_hours': 1,\n",
              " 'rich_percentage': 0.006142317496391388,\n",
              " 'highest_earning_country': count    Iran\n",
              " dtype: object,\n",
              " 'highest_earning_country_percentage': count    0.418605\n",
              " dtype: float64,\n",
              " 'top_IN_occupation': 'Prof-specialty'}"
            ]
          },
          "metadata": {},
          "execution_count": 3
        }
      ]
    }
  ]
}